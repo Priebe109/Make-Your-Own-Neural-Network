{
 "cells": [
  {
   "cell_type": "code",
   "execution_count": 2,
   "metadata": {
    "collapsed": true
   },
   "outputs": [],
   "source": [
    "#import array (matrix) module\n",
    "import numpy"
   ]
  },
  {
   "cell_type": "code",
   "execution_count": 3,
   "metadata": {
    "collapsed": true
   },
   "outputs": [],
   "source": [
    "#import plotting module (imshow) and configure outputs to be shown inline\n",
    "import matplotlib.pyplot\n",
    "%matplotlib inline"
   ]
  },
  {
   "cell_type": "code",
   "execution_count": 4,
   "metadata": {
    "collapsed": true
   },
   "outputs": [],
   "source": [
    "#import scipy.special for the sigmoid function expit()\n",
    "import scipy.special"
   ]
  },
  {
   "cell_type": "code",
   "execution_count": 9,
   "metadata": {
    "collapsed": false
   },
   "outputs": [],
   "source": [
    "#neural network class definition\n",
    "class NeuralNetwork:\n",
    "    \n",
    "    #initialize the neural network\n",
    "    def __init__(self, inputNodes, hiddenNodes, outputNodes, learningRate):\n",
    "        \n",
    "        #assign initial values\n",
    "        self.inputNodes = inputNodes\n",
    "        self.hiddenNodes = hiddenNodes\n",
    "        self.outputNodes = outputNodes\n",
    "        self.learningRate = learningRate\n",
    "        \n",
    "        #create weight matrices\n",
    "        weightOffset = -0.5\n",
    "        self.weightMatrixIH = numpy.random.normal(0, pow(self.hiddenNodes, weightOffset), (self.hiddenNodes, self.inputNodes))\n",
    "        self.weightMatrixHO = numpy.random.normal(0, pow(self.outputNodes, weightOffset), (self.outputNodes, self.hiddenNodes))\n",
    "        \n",
    "        #define activation function\n",
    "        self.activationFunction = lambda x: scipy.special.expit(x)\n",
    "        \n",
    "        pass\n",
    "    \n",
    "    #train the neural network\n",
    "    def train(self, inputList, targetList):\n",
    "        \n",
    "        #convert input lists to 2d arrays\n",
    "        inputs = numpy.array(inputList, ndmin=2).T\n",
    "        targets = numpy.array(targetList, ndmin=2).T\n",
    "        \n",
    "        #perform query, see query() for detailed comments\n",
    "        hiddenInputs = numpy.dot(self.weightMatrixIH, inputs)\n",
    "        hiddenOutputs = self.activationFunction(hiddenInputs)\n",
    "        finalInputs = numpy.dot(self.weightMatrixHO, hiddenOutputs)\n",
    "        finalOutputs = self.activationFunction(finalInputs)\n",
    "        \n",
    "        #calculate output error (target - output)\n",
    "        outputErrors = targets - finalOutputs\n",
    "        \n",
    "        #hidden layer error is the output error split by weights and recombined at the hidden nodes\n",
    "        hiddenErrors = numpy.dot(self.weightMatrixHO.T, outputErrors)\n",
    "        inputErrors = numpy.dot(self.weightMatrixIH.T, hiddenErrors)\n",
    "        \n",
    "        #update weights based on error\n",
    "        self.weightMatrixHO += self.learningRate * numpy.dot((outputErrors * finalOutputs * (1 - outputs)), numpy.transpose(hiddenOutputs))\n",
    "        self.weightMatrixIH += self.learningRate * numpy.dot((hiddenErrors * hiddenOutputs * (1 - hiddenOutputs)), numpy.transpose(inputs))\n",
    "        \n",
    "        pass\n",
    "    \n",
    "    #query the neural network\n",
    "    def query(self, inputList):\n",
    "        \n",
    "        #convert input list to 2d array\n",
    "        inputs = numpy.array(inputList, ndmin=2).T\n",
    "        \n",
    "        #calculate sifnals into the hidden layer\n",
    "        # --> X_H = W_IH . I\n",
    "        hiddenInputs = numpy.dot(self.weightMatrixIH, inputs)\n",
    "        \n",
    "        #calculate the signals emerging from the hidden layer\n",
    "        # --> O_H = sigmoid(X_H)\n",
    "        hiddenOutputs = self.activationFunction(hiddenInputs)\n",
    "        \n",
    "        #calculate the signals into the final output layer\n",
    "        # --> X_O = W_HO . O_H\n",
    "        finalInputs = numpy.dot(self.weightMatrixHO, hiddenOutputs)\n",
    "        \n",
    "        #calculate the signals emerging from the final output layer\n",
    "        # --> O = sigmoid(X_O)\n",
    "        finalOutputs = self.activationFunction(finalInputs)\n",
    "        \n",
    "        return finalOutputs\n",
    "    \n",
    "    pass"
   ]
  },
  {
   "cell_type": "code",
   "execution_count": 6,
   "metadata": {
    "collapsed": false
   },
   "outputs": [],
   "source": [
    "nodes = [3, 3, 3]\n",
    "learningRate = 0.3\n",
    "n = NeuralNetwork(nodes[0], nodes[1], nodes[2], learningRate)"
   ]
  },
  {
   "cell_type": "code",
   "execution_count": 7,
   "metadata": {
    "collapsed": false
   },
   "outputs": [
    {
     "data": {
      "text/plain": [
       "array([[ 0.43661231],\n",
       "       [ 0.48615275],\n",
       "       [ 0.58436781]])"
      ]
     },
     "execution_count": 7,
     "metadata": {},
     "output_type": "execute_result"
    }
   ],
   "source": [
    "n.query([1.0, 0.5, -1.5])"
   ]
  },
  {
   "cell_type": "code",
   "execution_count": null,
   "metadata": {
    "collapsed": true
   },
   "outputs": [],
   "source": []
  }
 ],
 "metadata": {
  "anaconda-cloud": {},
  "kernelspec": {
   "display_name": "Python [Root]",
   "language": "python",
   "name": "Python [Root]"
  },
  "language_info": {
   "codemirror_mode": {
    "name": "ipython",
    "version": 3
   },
   "file_extension": ".py",
   "mimetype": "text/x-python",
   "name": "python",
   "nbconvert_exporter": "python",
   "pygments_lexer": "ipython3",
   "version": "3.5.1"
  }
 },
 "nbformat": 4,
 "nbformat_minor": 0
}
