{
 "cells": [
  {
   "cell_type": "code",
   "execution_count": 110,
   "metadata": {
    "collapsed": true
   },
   "outputs": [],
   "source": [
    "#import array (matrix) module\n",
    "import numpy\n",
    "\n",
    "#import plotting module (imshow) and configure outputs to be shown inline\n",
    "import matplotlib.pyplot\n",
    "%matplotlib inline\n",
    "\n",
    "#import scipy.special for the sigmoid function expit()\n",
    "import scipy.special\n",
    "\n",
    "#import scipy.ndimage for image rotation\n",
    "import scipy.ndimage"
   ]
  },
  {
   "cell_type": "code",
   "execution_count": 21,
   "metadata": {
    "collapsed": true
   },
   "outputs": [],
   "source": [
    "#neural network class definition\n",
    "class NeuralNetwork:\n",
    "    \n",
    "    #initialize the neural network\n",
    "    def __init__(self, inputNodes, hiddenNodes, outputNodes, learningRate):\n",
    "        \n",
    "        #assign initial values\n",
    "        self.inputNodes = inputNodes\n",
    "        self.hiddenNodes = hiddenNodes\n",
    "        self.outputNodes = outputNodes\n",
    "        self.learningRate = learningRate\n",
    "        \n",
    "        #create weight matrices\n",
    "        weightOffset = -0.5\n",
    "        self.weightMatrixIH = numpy.random.normal(0, pow(self.hiddenNodes, weightOffset), (self.hiddenNodes, self.inputNodes))\n",
    "        self.weightMatrixHO = numpy.random.normal(0, pow(self.outputNodes, weightOffset), (self.outputNodes, self.hiddenNodes))\n",
    "        \n",
    "        #define activation function\n",
    "        self.activationFunction = lambda x: scipy.special.expit(x)\n",
    "        \n",
    "        pass\n",
    "    \n",
    "    #train the neural network\n",
    "    def train(self, inputList, targetList):\n",
    "        \n",
    "        #convert input lists to 2d arrays\n",
    "        inputs = numpy.array(inputList, ndmin=2).T\n",
    "        targets = numpy.array(targetList, ndmin=2).T\n",
    "        \n",
    "        #perform query, see query() for detailed comments\n",
    "        hiddenInputs = numpy.dot(self.weightMatrixIH, inputs)\n",
    "        hiddenOutputs = self.activationFunction(hiddenInputs)\n",
    "        finalInputs = numpy.dot(self.weightMatrixHO, hiddenOutputs)\n",
    "        finalOutputs = self.activationFunction(finalInputs)\n",
    "        \n",
    "        #calculate output error (target - output)\n",
    "        outputErrors = targets - finalOutputs\n",
    "        \n",
    "        #hidden layer error is the output error split by weights and recombined at the hidden nodes\n",
    "        hiddenErrors = numpy.dot(self.weightMatrixHO.T, outputErrors)\n",
    "        inputErrors = numpy.dot(self.weightMatrixIH.T, hiddenErrors)\n",
    "        \n",
    "        #update weights based on error\n",
    "        self.weightMatrixHO += self.learningRate * numpy.dot((outputErrors * finalOutputs * (1 - finalOutputs)), numpy.transpose(hiddenOutputs))\n",
    "        self.weightMatrixIH += self.learningRate * numpy.dot((hiddenErrors * hiddenOutputs * (1 - hiddenOutputs)), numpy.transpose(inputs))\n",
    "        \n",
    "        pass\n",
    "    \n",
    "    #query the neural network\n",
    "    def query(self, inputList):\n",
    "        \n",
    "        #convert input list to 2d array\n",
    "        inputs = numpy.array(inputList, ndmin=2).T\n",
    "        \n",
    "        #calculate sifnals into the hidden layer\n",
    "        # --> X_H = W_IH . I\n",
    "        hiddenInputs = numpy.dot(self.weightMatrixIH, inputs)\n",
    "        \n",
    "        #calculate the signals emerging from the hidden layer\n",
    "        # --> O_H = sigmoid(X_H)\n",
    "        hiddenOutputs = self.activationFunction(hiddenInputs)\n",
    "        \n",
    "        #calculate the signals into the final output layer\n",
    "        # --> X_O = W_HO . O_H\n",
    "        finalInputs = numpy.dot(self.weightMatrixHO, hiddenOutputs)\n",
    "        \n",
    "        #calculate the signals emerging from the final output layer\n",
    "        # --> O = sigmoid(X_O)\n",
    "        finalOutputs = self.activationFunction(finalInputs)\n",
    "        \n",
    "        return finalOutputs\n",
    "    \n",
    "    pass"
   ]
  },
  {
   "cell_type": "code",
   "execution_count": 22,
   "metadata": {
    "collapsed": true
   },
   "outputs": [],
   "source": [
    "#function for loading the contents of the file into memory\n",
    "def loadDataList(filePath):\n",
    "    data_file = open(filePath, 'r')\n",
    "    data_list = data_file.readlines()\n",
    "    data_file.close()\n",
    "    return data_list"
   ]
  },
  {
   "cell_type": "code",
   "execution_count": 23,
   "metadata": {
    "collapsed": true
   },
   "outputs": [],
   "source": [
    "#function for constructing targets for image recognition\n",
    "def constructTargets(target, outputNodes):\n",
    "    targets = numpy.zeros(outputNodes) + 0.01\n",
    "    targets[target] = 0.99\n",
    "    return targets"
   ]
  },
  {
   "cell_type": "code",
   "execution_count": 24,
   "metadata": {
    "collapsed": true
   },
   "outputs": [],
   "source": [
    "#function for constructing scaled input values from a data list\n",
    "def constructInputs(allValues):\n",
    "    return (numpy.asfarray(allValues[1:]) / 255 * 0.99) + 0.01"
   ]
  },
  {
   "cell_type": "code",
   "execution_count": 25,
   "metadata": {
    "collapsed": true
   },
   "outputs": [],
   "source": [
    "#function for creating a 28x28 image from a single data item\n",
    "def createImage(allValues):\n",
    "    return numpy.asfarray(allValues[1:]).reshape((28,28))"
   ]
  },
  {
   "cell_type": "code",
   "execution_count": 141,
   "metadata": {
    "collapsed": false
   },
   "outputs": [],
   "source": [
    "#create instance neural network for image recognition\n",
    "nodes = [784, 200, 10]\n",
    "learningRate = 0.01\n",
    "network = NeuralNetwork(nodes[0], nodes[1], nodes[2], learningRate)"
   ]
  },
  {
   "cell_type": "code",
   "execution_count": 146,
   "metadata": {
    "collapsed": false
   },
   "outputs": [],
   "source": [
    "#\n",
    "# Training the Neural Network\n",
    "#\n",
    "\n",
    "#load training data\n",
    "trainingDataList = loadDataList(\"/Users/Priebe/Library/Mobile Documents/com~apple~CloudDocs/Python/NeuralNetwork/MNIST/mnist_train.csv\")\n",
    "\n",
    "#epochs is the number of times the training set is used\n",
    "epochs = 10\n",
    "\n",
    "for e in range(epochs):\n",
    "    \n",
    "    #train neural network\n",
    "    for index in range(len(trainingDataList)-1):\n",
    "        \n",
    "        #basic training\n",
    "        allValues = trainingDataList[index].split(',')\n",
    "        inputs = constructInputs(allValues)\n",
    "        targets = constructTargets(int(allValues[0]), nodes[2])\n",
    "        network.train(inputs, targets)\n",
    "        \n",
    "        #+10degree image rotation training\n",
    "        inputsPlus10Degrees = scipy.ndimage.interpolation.rotate(inputs.reshape(28,28), 10, cval=0.01, reshape=False)\n",
    "        network.train(inputsPlus10Degrees.reshape(784), targets)\n",
    "        \n",
    "        #-10degree image rotation training\n",
    "        inputsMinus10Degrees = scipy.ndimage.interpolation.rotate(inputs.reshape(28,28), -10, cval=0.01, reshape=False)\n",
    "        network.train(inputsMinus10Degrees.reshape(784), targets)\n",
    "        \n",
    "        pass\n",
    "    pass"
   ]
  },
  {
   "cell_type": "code",
   "execution_count": 147,
   "metadata": {
    "collapsed": false
   },
   "outputs": [],
   "source": [
    "#\n",
    "# Testing the Neural Network\n",
    "#\n",
    "\n",
    "#load testing data\n",
    "testingDataList = loadDataList(\"/Users/Priebe/Library/Mobile Documents/com~apple~CloudDocs/Python/NeuralNetwork/MNIST/mnist_test.csv\")\n",
    "\n",
    "#create scoreboard\n",
    "scoreboard = []\n",
    "\n",
    "#go through all the records in the data set\n",
    "for record in testingDataList:\n",
    "    allValues = record.split(',')\n",
    "    correctLabel = allValues[0]\n",
    "    outputs = network.query(constructInputs(allValues))\n",
    "    predictedLabel = numpy.argmax(outputs)\n",
    "    if (int(predictedLabel) == int(correctLabel)):\n",
    "        scoreboard.append(1)\n",
    "    else:\n",
    "        scoreboard.append(0)\n",
    "        pass\n",
    "    #print(correctLabel, \"correct label\")\n",
    "    #print(predictedLabel, \"networks answer\")\n",
    "    pass"
   ]
  },
  {
   "cell_type": "code",
   "execution_count": 148,
   "metadata": {
    "collapsed": false
   },
   "outputs": [
    {
     "name": "stdout",
     "output_type": "stream",
     "text": [
      "Performance = 0.9711\n"
     ]
    }
   ],
   "source": [
    "#\n",
    "# Calculating performance\n",
    "#\n",
    "\n",
    "scoreArray = numpy.asarray(scoreboard)\n",
    "print(\"Performance =\", scoreArray.sum() / scoreArray.size)"
   ]
  },
  {
   "cell_type": "code",
   "execution_count": 145,
   "metadata": {
    "collapsed": false
   },
   "outputs": [
    {
     "name": "stdout",
     "output_type": "stream",
     "text": [
      "prediction = 7\n"
     ]
    },
    {
     "data": {
      "image/png": "[encoded data removed]",
      "text/plain": [
       "<matplotlib.figure.Figure at 0x11ef218d0>"
      ]
     },
     "metadata": {},
     "output_type": "display_data"
    }
   ],
   "source": [
    "#\n",
    "# Testing my own images\n",
    "#\n",
    "\n",
    "#importing an image\n",
    "import scipy.misc\n",
    "img_array = scipy.misc.imread(\"/Users/Priebe/Library/Mobile Documents/com~apple~CloudDocs/Python/NeuralNetwork/Images/image00.png\", flatten=True)\n",
    "img_data = 255 - img_array.reshape(784)\n",
    "img_data = (img_data / 255 * 0.99) + 0.01\n",
    "\n",
    "#testing the output\n",
    "matplotlib.pyplot.imshow(img_array)\n",
    "outputs = network.query(img_data)\n",
    "print(\"prediction =\", numpy.argmax(outputs))"
   ]
  },
  {
   "cell_type": "code",
   "execution_count": null,
   "metadata": {
    "collapsed": true
   },
   "outputs": [],
   "source": []
  }
 ],
 "metadata": {
  "anaconda-cloud": {},
  "kernelspec": {
   "display_name": "Python [Root]",
   "language": "python",
   "name": "Python [Root]"
  },
  "language_info": {
   "codemirror_mode": {
    "name": "ipython",
    "version": 3
   },
   "file_extension": ".py",
   "mimetype": "text/x-python",
   "name": "python",
   "nbconvert_exporter": "python",
   "pygments_lexer": "ipython3",
   "version": "3.5.1"
  }
 },
 "nbformat": 4,
 "nbformat_minor": 0
}
